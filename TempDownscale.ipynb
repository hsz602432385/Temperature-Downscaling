{
 "cells": [
  {
   "cell_type": "code",
   "execution_count": 6,
   "metadata": {},
   "outputs": [],
   "source": [
    "from sys import path\n",
    "path.append(\"./deep-belief-network-master/\")\n",
    "from dbn import SupervisedDBNRegression\n",
    "from sklearn.model_selection import train_test_split\n",
    "from sklearn.preprocessing import MinMaxScaler\n",
    "import numpy as np\n",
    "import pandas as pd\n",
    "from sklearn.metrics import r2_score\n",
    "from scipy.stats import pearsonr\n",
    "from sklearn.metrics import mean_squared_error\n",
    "import os"
   ]
  },
  {
   "cell_type": "code",
   "execution_count": 9,
   "metadata": {},
   "outputs": [],
   "source": [
    "def RMSE(data1,data2):\n",
    "    return np.sqrt(np.mean((data1-data2)*(data1-data2)))\n",
    "def MAE(data1,data2):\n",
    "    return np.mean(np.abs(data1-data2))\n",
    "def BIAS(data1,data2):\n",
    "    return np.mean(data1-data2)\n",
    "def UBRMSE(data1,data2):\n",
    "    rmse=RMSE(data1,data2)\n",
    "    bias=BIAS(data1,data2)\n",
    "    return np.sqrt(rmse*rmse-bias*bias)\n",
    "def PCC(data1,data2):\n",
    "    return pearsonr(data1,data2)[0]"
   ]
  },
  {
   "cell_type": "code",
   "execution_count": 11,
   "metadata": {},
   "outputs": [],
   "source": [
    "def DBNTrain(datapath,hidden,rbm_lr,lr,rbm_epoch,epoch,batchsize):\n",
    "    data=pd.read_csv(datapath)\n",
    "    predictors=data[[\"Ele\",\"Albedo\",\"SSM\",\"UW\",\"LST\",\"NDVI\",\"DOY\",\"AT\"]].values\n",
    "    outputvar=data[\"Mean\"].values\n",
    "    # Splitting data\n",
    "    X_train, X_test, Y_train, Y_test = train_test_split(predictors, outputvar, test_size=0.2)\n",
    "    # Data scaling\n",
    "    min_max_scaler = MinMaxScaler()\n",
    "    X_train = min_max_scaler.fit_transform(X_train)\n",
    "    # Training                                               \n",
    "    regressor = SupervisedDBNRegression(hidden_layers_structure=hidden,\n",
    "                                        learning_rate_rbm=rbm_lr,\n",
    "                                        learning_rate=lr,\n",
    "                                        n_epochs_rbm=rbm_epoch,\n",
    "                                        n_iter_backprop=epoch,\n",
    "                                        batch_size=batchsize,\n",
    "                                        activation_function='relu')\n",
    "    regressor.fit(X_train, Y_train)\n",
    "    X_test = min_max_scaler.transform(X_test)\n",
    "    Y_pred = regressor.predict(X_test)\n",
    "    print(PCC(Y_pred[:,0],Y_test))\n",
    "    return regressor"
   ]
  },
  {
   "cell_type": "code",
   "execution_count": null,
   "metadata": {},
   "outputs": [],
   "source": []
  }
 ],
 "metadata": {
  "kernelspec": {
   "display_name": "Python 3",
   "language": "python",
   "name": "python3"
  },
  "language_info": {
   "codemirror_mode": {
    "name": "ipython",
    "version": 3
   },
   "file_extension": ".py",
   "mimetype": "text/x-python",
   "name": "python",
   "nbconvert_exporter": "python",
   "pygments_lexer": "ipython3",
   "version": "3.7.9"
  }
 },
 "nbformat": 4,
 "nbformat_minor": 4
}
